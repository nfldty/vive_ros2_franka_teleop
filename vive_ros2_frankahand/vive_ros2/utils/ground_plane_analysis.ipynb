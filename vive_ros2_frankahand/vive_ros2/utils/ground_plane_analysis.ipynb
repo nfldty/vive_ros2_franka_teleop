{
 "cells": [
  {
   "cell_type": "code",
   "execution_count": 1,
   "metadata": {},
   "outputs": [],
   "source": [
    "import numpy as np\n",
    "import matplotlib.pyplot as plt"
   ]
  },
  {
   "cell_type": "code",
   "execution_count": 8,
   "metadata": {},
   "outputs": [],
   "source": [
    "GRID_SPACING = 0.5\n",
    "grid = np.array([[-0.00720813,  0.020769,    0.02581429,  0.0307373,   0.04252361],\n",
    "                 [ 0.00335603,  0.01670346,  0.02854705,  0.04107749,  0.05185828],\n",
    "                 [ 0.01624358,  0.03375534,  0.04552578,  0.06014409,  0.0613376 ],\n",
    "                 [ 0.02588552,  0.04301898,  0.04909327,  0.06434713,  0.0698051 ],\n",
    "                 [ 0.03568021,  0.05165546,  0.06959586,  0.08220989,  0.08157182]])\n",
    "GRID_SIZE = grid.shape"
   ]
  },
  {
   "cell_type": "code",
   "execution_count": 70,
   "metadata": {},
   "outputs": [],
   "source": [
    "# (0 ,0) (1, 0) (2, 0) (3, 0) (4, 0) (0, 1) (1, 1) ... (Xm, Yn)\n",
    "b = grid.reshape(-1)\n",
    "\n",
    "# each row i is (x, y, 1) and corresponds to z[i]  in b\n",
    "def create_A(grid_size):\n",
    "    A = []\n",
    "    for i in range(grid_size[0] * grid_size[1]):\n",
    "        A.append([i%grid_size[0], i//grid_size[1], 1])\n",
    "    return np.array(A)\n",
    "A = create_A(GRID_SIZE)"
   ]
  },
  {
   "cell_type": "code",
   "execution_count": 71,
   "metadata": {},
   "outputs": [
    {
     "data": {
      "text/plain": [
       "array([ 0.01157784,  0.01053524, -0.00246424])"
      ]
     },
     "execution_count": 71,
     "metadata": {},
     "output_type": "execute_result"
    }
   ],
   "source": [
    "# solve for s1, s2, s3 such that z = s1*x + s2*y + s3\n",
    "s = np.linalg.inv(A.T@A)@A.T@b\n",
    "s"
   ]
  },
  {
   "cell_type": "code",
   "execution_count": 72,
   "metadata": {},
   "outputs": [
    {
     "data": {
      "text/plain": [
       "2.112971649207225e-05"
      ]
     },
     "execution_count": 72,
     "metadata": {},
     "output_type": "execute_result"
    }
   ],
   "source": [
    "# mean squared error\n",
    "np.mean(np.square(A@s - b))"
   ]
  },
  {
   "cell_type": "code",
   "execution_count": 85,
   "metadata": {},
   "outputs": [
    {
     "data": {
      "image/png": "[encoded data removed]",
      "text/plain": [
       "<Figure size 432x288 with 1 Axes>"
      ]
     },
     "metadata": {
      "needs_background": "light"
     },
     "output_type": "display_data"
    }
   ],
   "source": [
    "from matplotlib import colors\n",
    "\n",
    "data = grid\n",
    "# data = (A@s - s[2]).reshape(GRID_SIZE)\n",
    "\n",
    "# create discrete colormap\n",
    "fig, ax = plt.subplots()\n",
    "ax.imshow(data, cmap=plt.get_cmap(\"seismic\"))\n",
    "\n",
    "# draw gridlines\n",
    "ax.grid(which='major', axis='both', linestyle='-', color='k', linewidth=2)\n",
    "ax.set_xticks(np.arange(-GRID_SPACING, GRID_SIZE[0], 1));\n",
    "ax.set_yticks(np.arange(-GRID_SPACING, GRID_SIZE[1], 1));\n",
    "\n",
    "plt.show()"
   ]
  }
 ],
 "metadata": {
  "kernelspec": {
   "display_name": "Python 3",
   "language": "python",
   "name": "python3"
  },
  "language_info": {
   "codemirror_mode": {
    "name": "ipython",
    "version": 3
   },
   "file_extension": ".py",
   "mimetype": "text/x-python",
   "name": "python",
   "nbconvert_exporter": "python",
   "pygments_lexer": "ipython3",
   "version": "3.8.3"
  }
 },
 "nbformat": 4,
 "nbformat_minor": 4
}
